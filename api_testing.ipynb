{
 "cells": [
  {
   "cell_type": "code",
   "execution_count": null,
   "id": "d50dd7f7",
   "metadata": {},
   "outputs": [],
   "source": [
    "import requests\n",
    "import json"
   ]
  },
  {
   "cell_type": "code",
   "execution_count": null,
   "id": "5ad19dfd",
   "metadata": {},
   "outputs": [],
   "source": [
    "base_url = \"http://127.0.0.1:8000/\""
   ]
  },
  {
   "cell_type": "markdown",
   "id": "26a205e4",
   "metadata": {},
   "source": [
    "# Add new item"
   ]
  },
  {
   "cell_type": "code",
   "execution_count": null,
   "id": "d753fc6f",
   "metadata": {},
   "outputs": [],
   "source": [
    "\n",
    "data = {\n",
    "    \"name\": \"item1\",\n",
    "    \"description\": \"item 1\",\n",
    "    \"price\": 10.1,\n",
    "    \"metadata\": {}\n",
    "}\n",
    "\n",
    "data = json.dumps(data)\n",
    "res = requests.post(url=base_url+\"shop_bridge_core/item/add/v1\", data=data)\n",
    "\n",
    "res.content"
   ]
  },
  {
   "cell_type": "markdown",
   "id": "60e67001",
   "metadata": {},
   "source": [
    "# get items"
   ]
  },
  {
   "cell_type": "code",
   "execution_count": null,
   "id": "386f5e8f",
   "metadata": {},
   "outputs": [],
   "source": [
    "data = json.dumps(data)\n",
    "res = requests.get(url=base_url+\"shop_bridge_core/items/v1\")\n",
    "\n",
    "res.content"
   ]
  },
  {
   "cell_type": "markdown",
   "id": "e26bf26b",
   "metadata": {},
   "source": [
    "# update item"
   ]
  },
  {
   "cell_type": "code",
   "execution_count": null,
   "id": "11c85617",
   "metadata": {},
   "outputs": [],
   "source": [
    "data = {\n",
    "    \"name\": \"item2\",\n",
    "    \"description\": \"item 2.\",\n",
    "    \"price\": 10.5,\n",
    "    \"metadata\": {\"available\": True}\n",
    "}\n",
    "\n",
    "data = json.dumps(data)\n",
    "res = requests.put(url=base_url+\"shop_bridge_core/item/3/update/v1\", data=data)\n",
    "\n",
    "res.content"
   ]
  },
  {
   "cell_type": "markdown",
   "id": "baffd036",
   "metadata": {},
   "source": [
    "# delete item"
   ]
  },
  {
   "cell_type": "code",
   "execution_count": null,
   "id": "9a0fb747",
   "metadata": {},
   "outputs": [],
   "source": [
    "\n",
    "res = requests.delete(url=base_url+\"shop_bridge_core/item/1/delete/v1\")\n",
    "\n",
    "res.content"
   ]
  },
  {
   "cell_type": "code",
   "execution_count": null,
   "id": "765b99ee",
   "metadata": {},
   "outputs": [],
   "source": []
  }
 ],
 "metadata": {
  "kernelspec": {
   "display_name": "Python 3 (ipykernel)",
   "language": "python",
   "name": "python3"
  },
  "language_info": {
   "codemirror_mode": {
    "name": "ipython",
    "version": 3
   },
   "file_extension": ".py",
   "mimetype": "text/x-python",
   "name": "python",
   "nbconvert_exporter": "python",
   "pygments_lexer": "ipython3",
   "version": "3.9.9"
  }
 },
 "nbformat": 4,
 "nbformat_minor": 5
}
